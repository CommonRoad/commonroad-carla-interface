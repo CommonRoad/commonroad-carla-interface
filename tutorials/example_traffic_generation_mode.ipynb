{
 "cells": [
  {
   "cell_type": "markdown",
   "id": "32876e2e",
   "metadata": {
    "pycharm": {
     "name": "#%% md\n"
    }
   },
   "source": [
    "# Tutorial: CommonRoad Carla Traffic generation mode \n",
    "## Generating, Visualizing, and Writing CommonRoad Scenarios\n",
    "\n",
    "This tutorial shows how CommonRoad Carla Traffic geration mode can be used, visualized, and stored. "
   ]
  },
  {
   "cell_type": "code",
   "execution_count": 3,
   "id": "4025d99c",
   "metadata": {
    "pycharm": {
     "name": "#%%\n"
    }
   },
   "outputs": [],
   "source": [
    "import sys\n",
    "import time\n",
    "from commonroad.scenario.trajectory import State\n",
    "import os\n",
    "import matplotlib.pyplot as plt\n",
    "from IPython.display import clear_output\n",
    "\n",
    "%matplotlib notebook\n",
    "from ipywidgets import interact\n",
    "import ipywidgets as widgets\n",
    "import math\n",
    "\n",
    "from commonroad.common.file_reader import CommonRoadFileReader\n",
    "from commonroad.visualization.mp_renderer import MPRenderer\n",
    "\n",
    "# import classes and functions for reading xml file and visualizing commonroad objects\n",
    "from commonroad.common.file_reader import CommonRoadFileReader\n",
    "from commonroad.visualization.mp_renderer import MPRenderer\n",
    "\n",
    "from commonroad.common.file_reader import CommonRoadFileReader\n",
    "\n",
    "#Add path to the os path\n",
    "sys.path.append(os.path.dirname(os.path.dirname(os.path.abspath(\"__file__\"))))\n",
    "\n",
    "from commonroad.visualization.mp_renderer import MPRenderer\n",
    "from carlacr.mode.carla_traffic_generation_mode import CarlaTrafficGenerationMode"
   ]
  },
  {
   "cell_type": "markdown",
   "id": "fa5a8daa",
   "metadata": {
    "pycharm": {
     "name": "#%% md\n"
    }
   },
   "source": []
  },
  {
   "cell_type": "code",
   "execution_count": 4,
   "id": "ff792c26",
   "metadata": {
    "pycharm": {
     "name": "#%%\n"
    }
   },
   "outputs": [],
   "source": [
    "startTime = time.time()\n",
    "notebook_path = os.path.abspath(\"example_traffic_generation_mode.ipynb\")\n",
    "map_path = os.path.join(os.path.dirname(notebook_path), \"../maps/\")\n",
    "map_name = \"DEU_Test-1_1_T-1\"\n",
    "traffic_generation = CarlaTrafficGenerationMode(open_drive_map_path=map_path + map_name + \".xodr\")"
   ]
  },
  {
   "cell_type": "markdown",
   "id": "0560b8ea",
   "metadata": {
    "pycharm": {
     "name": "#%% md\n"
    }
   },
   "source": [
    "## Auto generate a scenario"
   ]
  },
  {
   "cell_type": "code",
   "execution_count": null,
   "id": "71400ebb",
   "metadata": {
    "pycharm": {
     "name": "#%%\n"
    }
   },
   "outputs": [],
   "source": [
    "# you can reduce the carla_vehicles and the time_steps if you GPU is not really strong\n",
    "traffic_generation.traffic_generate(carla_vehicles=150,time_steps=80)\n",
    "executionTime = (time.time() - startTime)\n",
    "print('Execution time in seconds: ' + str(executionTime))\n"
   ]
  },
  {
   "cell_type": "markdown",
   "id": "62b320a5",
   "metadata": {
    "pycharm": {
     "name": "#%% md\n"
    }
   },
   "source": [
    "## Visualize scenario with commonroad "
   ]
  },
  {
   "cell_type": "code",
   "execution_count": null,
   "id": "104608a2",
   "metadata": {
    "pycharm": {
     "name": "#%%\n"
    }
   },
   "outputs": [],
   "source": [
    "obstacle_id = traffic_generation.scenario.dynamic_obstacles[10].obstacle_id\n",
    "print(obstacle_id)\n",
    "obstacle = traffic_generation.scenario.obstacle_by_id(obstacle_id)\n",
    "traffic_generation.scenario.remove_obstacle(obstacle)\n",
    "time_end = obstacle.prediction.trajectory.final_state.time_step + 1"
   ]
  },
  {
   "cell_type": "code",
   "execution_count": null,
   "id": "9faa5e2a",
   "metadata": {
    "pycharm": {
     "name": "#%%\n"
    }
   },
   "outputs": [],
   "source": [
    "plt.figure(figsize=(1*2.54, 1*2.54))\n",
    "def draw_scenario(time_step):\n",
    "    rnd = MPRenderer()\n",
    "    rnd.plot_limits = [min(-10, -100*math.cos(obstacle.state_at_time(time_step).orientation)), \n",
    "                               max(10, 200*math.cos(obstacle.state_at_time(time_step).orientation)), \n",
    "                               min(-10, 200*math.sin(obstacle.state_at_time(time_step).orientation)), \n",
    "                               max(10, 100*math.sin(obstacle.state_at_time(time_step).orientation))]\n",
    "    traffic_generation.scenario.draw(rnd, draw_params={'time_begin': 0, \n",
    "                                    'time_end': 80,\n",
    "                                    'focus_obstacle_id': obstacle_id,\n",
    "                                    'dynamic_obstacle': {\n",
    "                                        'draw_icon': True,\n",
    "                                        'show_label': True}})\n",
    "    obstacle.draw(rnd, draw_params = {'time_begin': 0, \n",
    "                                      'time_end': 80,\n",
    "                                      'focus_obstacle_id': obstacle_id,\n",
    "                                      'dynamic_obstacle': {'draw_icon': True, \n",
    "                                                           'show_label': True,\n",
    "                                      'vehicle_shape': {'occupancy': {'shape': {'polygon': {'facecolor': 'g',\n",
    "                                                                                           'edgecolor': 'k'}}}}}})\n",
    "    rnd.render()\n",
    "    \n",
    "\n",
    "interact(draw_scenario, time_step=widgets.IntSlider(min=obstacle.initial_state.time_step, max=obstacle.prediction.trajectory.final_state.time_step, step=1, value=obstacle.initial_state.time_step));"
   ]
  },
  {
   "cell_type": "code",
   "execution_count": null,
   "id": "df88482b",
   "metadata": {
    "pycharm": {
     "name": "#%%\n"
    }
   },
   "outputs": [],
   "source": [
    "#traffic_generation.visualize()"
   ]
  }
 ],
 "metadata": {
  "kernelspec": {
   "display_name": "Python 3 (ipykernel)",
   "language": "python",
   "name": "python3"
  },
  "language_info": {
   "codemirror_mode": {
    "name": "ipython",
    "version": 3
   },
   "file_extension": ".py",
   "mimetype": "text/x-python",
   "name": "python",
   "nbconvert_exporter": "python",
   "pygments_lexer": "ipython3",
   "version": "3.8.13"
  }
 },
 "nbformat": 4,
 "nbformat_minor": 5
}