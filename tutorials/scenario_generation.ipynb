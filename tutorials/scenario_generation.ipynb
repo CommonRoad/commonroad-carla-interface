{
 "cells": [
  {
   "cell_type": "code",
   "execution_count": null,
   "id": "initial_id",
   "metadata": {
    "collapsed": true,
    "jupyter": {
     "outputs_hidden": true
    }
   },
   "outputs": [],
   "source": [
    "from commonroad.common.file_writer import CommonRoadFileWriter, OverwriteExistingFile\n",
    "from commonroad.scenario.scenario import Tag\n",
    "from carlacr.carla_interface import CarlaInterface\n",
    "from carlacr.helper.config import CarlaParams\n",
    "\n",
    "# Configure simulation and scenario settings\n",
    "param = CarlaParams()\n",
    "param.map = \"Town10HD\"\n",
    "param.vehicle.vehicle_ks_state = False\n",
    "param.simulation.max_time_step = 120\n",
    "param.offscreen_mode = True\n",
    "param.simulation.number_vehicles = 5\n",
    "param.simulation.number_walkers = 5\n",
    "param.simulation.tm.ignore_vehicles_percentage = 20\n",
    "\n",
    "# Execute scenario generation\n",
    "ci = CarlaInterface(param)\n",
    "sc, pps = ci.scenario_generation(ci.create_cr_map())  # generate scenario and convert default map to CommonRoad format\n",
    "\n",
    "# Store generated scenario\n",
    "CommonRoadFileWriter(\n",
    "    sc, pps, author=\"TUM-CPS\", affiliation=\"Technical University of Munich\", source=\"CARLA\", tags={Tag.URBAN}\n",
    ").write_to_file(None, OverwriteExistingFile.ALWAYS)"
   ]
  }
 ],
 "metadata": {
  "kernelspec": {
   "display_name": "Python 3 (ipykernel)",
   "language": "python",
   "name": "python3"
  },
  "language_info": {
   "codemirror_mode": {
    "name": "ipython",
    "version": 3
   },
   "file_extension": ".py",
   "mimetype": "text/x-python",
   "name": "python",
   "nbconvert_exporter": "python",
   "pygments_lexer": "ipython3",
   "version": "3.8.18"
  }
 },
 "nbformat": 4,
 "nbformat_minor": 5
}
