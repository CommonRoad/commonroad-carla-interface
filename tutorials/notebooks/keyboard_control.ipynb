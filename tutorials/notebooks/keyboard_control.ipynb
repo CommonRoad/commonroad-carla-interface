{
 "cells": [
  {
   "cell_type": "code",
   "execution_count": null,
   "id": "initial_id",
   "metadata": {
    "collapsed": true,
    "jupyter": {
     "outputs_hidden": true
    }
   },
   "outputs": [],
   "source": [
    "from commonroad.common.file_writer import CommonRoadFileWriter\n",
    "from commonroad.common.writer.file_writer_interface import OverwriteExistingFile\n",
    "from commonroad.planning.planning_problem import PlanningProblemSet\n",
    "from commonroad.scenario.scenario import Tag\n",
    "from crcarla.carla_interface import CarlaInterface\n",
    "from crcarla.helper.config import CarlaParams, CustomVis, EgoPlanner\n",
    "\n",
    "# Keyboard control with storing of driven scenario\n",
    "\n",
    "# Configure simulation and scenario settings\n",
    "param = CarlaParams()\n",
    "param.vehicle.vehicle_ks_state = True\n",
    "param.offscreen_mode = True  # set to false if your system is powerful enough\n",
    "param.vis_type = CustomVis.BIRD  # set to EGO if your system is powerful enough\n",
    "param.simulation.number_vehicles = 2\n",
    "param.simulation.number_walkers = 2\n",
    "param.simulation.max_time_step = 120\n",
    "\n",
    "# Initialize CARLA-Interface and start keyboard control\n",
    "ci = CarlaInterface(param)\n",
    "ci.external_control(EgoPlanner.KEYBOARD)\n",
    "\n",
    "# Store generated scenario\n",
    "sc = ci.create_cr_scenario()\n",
    "CommonRoadFileWriter(\n",
    "    sc,\n",
    "    PlanningProblemSet(),\n",
    "    author=\"TUM-CPS\",\n",
    "    affiliation=\"Technical University of Munich\",\n",
    "    source=\"CARLA\",\n",
    "    tags={Tag.URBAN},\n",
    ").write_to_file(None, OverwriteExistingFile.ALWAYS)"
   ]
  }
 ],
 "metadata": {
  "kernelspec": {
   "display_name": "Python 3 (ipykernel)",
   "language": "python",
   "name": "python3"
  },
  "language_info": {
   "codemirror_mode": {
    "name": "ipython",
    "version": 3
   },
   "file_extension": ".py",
   "mimetype": "text/x-python",
   "name": "python",
   "nbconvert_exporter": "python",
   "pygments_lexer": "ipython3",
   "version": "3.8.18"
  }
 },
 "nbformat": 4,
 "nbformat_minor": 5
}
