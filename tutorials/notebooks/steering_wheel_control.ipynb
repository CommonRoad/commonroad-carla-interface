{
 "cells": [
  {
   "cell_type": "code",
   "execution_count": null,
   "id": "initial_id",
   "metadata": {
    "collapsed": true,
    "jupyter": {
     "outputs_hidden": true
    }
   },
   "source": [
    "from crcarla.carla_interface import CarlaInterface\n",
    "from crcarla.helper.config import CarlaParams, CustomVis, EgoPlanner\n",
    "\n",
    "# Example for using steering wheel in CARLA Town10\n",
    "\n",
    "# set parameters\n",
    "param = CarlaParams()\n",
    "param.vis_type = CustomVis.EGO\n",
    "\n",
    "# Initialize CARLA-Interface and start keyboard control\n",
    "ci = CarlaInterface(param)\n",
    "ci.external_control(EgoPlanner.STEERING_WHEEL)"
   ],
   "outputs": []
  }
 ],
 "metadata": {
  "kernelspec": {
   "display_name": "Python 3 (ipykernel)",
   "language": "python",
   "name": "python3"
  },
  "language_info": {
   "codemirror_mode": {
    "name": "ipython",
    "version": 3
   },
   "file_extension": ".py",
   "mimetype": "text/x-python",
   "name": "python",
   "nbconvert_exporter": "python",
   "pygments_lexer": "ipython3",
   "version": "3.8.18"
  }
 },
 "nbformat": 4,
 "nbformat_minor": 5
}
