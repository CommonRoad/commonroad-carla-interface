{
 "cells": [
  {
   "cell_type": "code",
   "execution_count": null,
   "id": "initial_id",
   "metadata": {
    "collapsed": true,
    "jupyter": {
     "outputs_hidden": true
    }
   },
   "source": [
    "from commonroad.common.file_reader import CommonRoadFileReader\n",
    "from commonroad.common.solution import VehicleType\n",
    "from commonroad_rp.utility.config import ReactivePlannerConfiguration\n",
    "\n",
    "from crcarla.carla_interface import CarlaInterface\n",
    "from crcarla.controller.reactive_planner import ReactivePlannerInterface\n",
    "from crcarla.helper.config import CarlaParams, CustomVis\n",
    "\n",
    "# specify map an scenario\n",
    "scenario, planning_problem_set = CommonRoadFileReader(\"scenarios/DEU_Test-1_1_T-2.xml\").open()\n",
    "\n",
    "# configure carla-interface\n",
    "param = CarlaParams()\n",
    "param.map = \"maps/DEU_Test-1_1_T-2.xodr\"\n",
    "param.ego.vehicle_ks_state = False\n",
    "param.vehicle.vehicle_ks_state = False\n",
    "param.offscreen_mode = True\n",
    "param.vis_type = CustomVis.BIRD\n",
    "\n",
    "# configure CommonRoad reactive planner\n",
    "rp_config = ReactivePlannerConfiguration()\n",
    "rp_config.debug.draw_traj_set = False\n",
    "rp_config.debug.draw_icons = True\n",
    "rp_config.debug.save_plots = True\n",
    "rp_config.debug.plots_file_format = \"svg\"\n",
    "rp_config.sampling.v_max = 10\n",
    "rp_config.sampling.v_min = -10\n",
    "rp_config.planning.replanning_frequency = 1\n",
    "rp_config.sampling.d_min = -3\n",
    "rp_config.sampling.d_max = 3\n",
    "rp_config.planning.time_steps_computation = 60\n",
    "rp_config.sampling.num_sampling_levels = 4\n",
    "ci = CarlaInterface(param)\n",
    "\n",
    "# get planning problem and remove ego vehicle from scenario\n",
    "planning_problem = list(planning_problem_set.planning_problem_dict.values())[0]\n",
    "scenario.remove_obstacle(scenario.dynamic_obstacles[0])\n",
    "\n",
    "# start planning\n",
    "ci.plan(\n",
    "    ReactivePlannerInterface(scenario, planning_problem, rp_config),\n",
    "    None,\n",
    "    scenario,\n",
    "    list(planning_problem_set.planning_problem_dict.values())[0],\n",
    "    VehicleType.BMW_320i,\n",
    ")"
   ],
   "outputs": []
  }
 ],
 "metadata": {
  "kernelspec": {
   "display_name": "Python 3 (ipykernel)",
   "language": "python",
   "name": "python3"
  },
  "language_info": {
   "codemirror_mode": {
    "name": "ipython",
    "version": 3
   },
   "file_extension": ".py",
   "mimetype": "text/x-python",
   "name": "python",
   "nbconvert_exporter": "python",
   "pygments_lexer": "ipython3",
   "version": "3.8.18"
  }
 },
 "nbformat": 4,
 "nbformat_minor": 5
}
