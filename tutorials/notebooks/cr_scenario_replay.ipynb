{
 "cells": [
  {
   "cell_type": "code",
   "execution_count": null,
   "id": "58b84066fce5f34f",
   "metadata": {
    "collapsed": false,
    "jupyter": {
     "outputs_hidden": false
    }
   },
   "source": [
    "from commonroad.common.file_reader import CommonRoadFileReader\n",
    "from crcarla.carla_interface import CarlaInterface\n",
    "from crcarla.helper.config import CarlaParams, CustomVis\n",
    "\n",
    "# Load CommonRoad scenario\n",
    "scenario, pps = CommonRoadFileReader(cr_scenario_path := \"scenarios/DEU_Test-1_1_T-2.xml\").open()\n",
    "\n",
    "# Configure simulation and scenario settings\n",
    "param = CarlaParams()\n",
    "param.map = cr_scenario_path\n",
    "param.offscreen_mode = False  # set to false if your system (GPU) is powerful enough\n",
    "param.vis_type = CustomVis.EGO\n",
    "param.ego_view.record_video = True\n",
    "\n",
    "# Initialize CARLA-Interface and execute simulation with the obstacle with ID 0 as ego vehicle\n",
    "ci = CarlaInterface(param)\n",
    "ci.replay(scenario, ego_id=6)"
   ],
   "outputs": []
  }
 ],
 "metadata": {
  "kernelspec": {
   "display_name": "Python 3 (ipykernel)",
   "language": "python",
   "name": "python3"
  },
  "language_info": {
   "codemirror_mode": {
    "name": "ipython",
    "version": 3
   },
   "file_extension": ".py",
   "mimetype": "text/x-python",
   "name": "python",
   "nbconvert_exporter": "python",
   "pygments_lexer": "ipython3",
   "version": "3.8.18"
  }
 },
 "nbformat": 4,
 "nbformat_minor": 5
}
